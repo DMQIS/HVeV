{
 "cells": [
  {
   "cell_type": "code",
   "execution_count": 27,
   "id": "6c2ffe8f",
   "metadata": {},
   "outputs": [
    {
     "data": {
      "application/vnd.jupyter.widget-view+json": {
       "model_id": "aff597e99191468db28c4fab0856f581",
       "version_major": 2,
       "version_minor": 0
      },
      "text/plain": [
       "interactive(children=(FloatLogSlider(value=1.0, description='Activity (μCi)', max=3.0, min=-3.0), RadioButtons…"
      ]
     },
     "metadata": {},
     "output_type": "display_data"
    }
   ],
   "source": [
    "import numpy as np\n",
    "import matplotlib.pyplot as plt\n",
    "import ipywidgets as widgets\n",
    "from ipywidgets import interact\n",
    "import matplotlib.image as mpimg\n",
    "\n",
    "def event_rate(A_uCi, d_mm, diameter_um):\n",
    "    A = A_uCi * 3.7e4  # Convert microCurie to decays per second (1 uCi = 3.7e4 Bq)\n",
    "    r = diameter_um / 2 / 1e6  # Convert diameter in microns to radius in meters\n",
    "    d = d_mm / 1000  # Convert mm to meters\n",
    "    return A * 0.5 * (1 - d / np.sqrt(d**2 + r**2))\n",
    "\n",
    "def heat_produced(A_uCi):\n",
    "    energy_per_decay_J = 5.8e3 * 1.60218e-19  # Convert 5.8 keV to Joules\n",
    "    A = A_uCi * 3.7e4  # Convert microCurie to decays per second\n",
    "    return A * energy_per_decay_J * 1e9  # Power in nW\n",
    "\n",
    "def plot_event_rate_and_heat(A_uCi, diameter_um):\n",
    "    d_values_mm = np.linspace(5, 20, 100)  # Distance values in mm for x-axis\n",
    "    R_values = [event_rate(A_uCi, d, diameter_um) for d in d_values_mm]\n",
    "    heat = heat_produced(A_uCi)\n",
    "    \n",
    "    fig, ax = plt.subplots(figsize=(6, 4))\n",
    "    ax.plot(d_values_mm, R_values, color='royalblue', label='Event Rate')\n",
    "    ax.set_xlabel(\"Distance (mm)\")\n",
    "    ax.set_ylabel(\"Events per second\")\n",
    "    ax.set_title(\"Event Rate vs Distance\")\n",
    "    ax.legend()\n",
    "    plt.show()\n",
    "    \n",
    "    fig, ax = plt.subplots(figsize=(4, 4))\n",
    "    ax.text(0.5, -0.1, f\"{heat:.3f} nW\", fontsize=14, ha='center', va='center', transform=ax.transAxes,\n",
    "            bbox=dict(facecolor='white', alpha=0.8, edgecolor='darkred'))\n",
    "    ax.set_axis_off()\n",
    "    plt.show()\n",
    "\n",
    "# List of available pinhole diameters from Thorlabs in micrometers\n",
    "pinhole_diameters = [\n",
    "    5,10 ,15 ,20 ,25 ,30 ,40 ,50 ,75 ,100,150,200\n",
    "]\n",
    "\n",
    "interact(\n",
    "    plot_event_rate_and_heat,\n",
    "    A_uCi=widgets.FloatLogSlider(value=1, base=10, min=-3, max=3, step=0.1, description=\"Activity (μCi)\"),\n",
    "    diameter_um=widgets.RadioButtons(options=pinhole_diameters, description=\"Pinhole Diameter (μm)\")\n",
    ");"
   ]
  }
 ],
 "metadata": {
  "kernelspec": {
   "display_name": "Python 3 (ipykernel)",
   "language": "python",
   "name": "python3"
  },
  "language_info": {
   "codemirror_mode": {
    "name": "ipython",
    "version": 3
   },
   "file_extension": ".py",
   "mimetype": "text/x-python",
   "name": "python",
   "nbconvert_exporter": "python",
   "pygments_lexer": "ipython3",
   "version": "3.10.0"
  }
 },
 "nbformat": 4,
 "nbformat_minor": 5
}
